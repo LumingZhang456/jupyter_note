{
 "cells": [
  {
   "cell_type": "markdown",
   "id": "bd0d2bf4",
   "metadata": {},
   "source": [
    "# EXCEL"
   ]
  },
  {
   "cell_type": "markdown",
   "id": "a7e7f0fd",
   "metadata": {},
   "source": [
    "## Moving Average\n",
    "`=AVERAGE(XX:XX)`"
   ]
  },
  {
   "cell_type": "markdown",
   "id": "9009fcbf",
   "metadata": {},
   "source": [
    "# Linux"
   ]
  },
  {
   "cell_type": "markdown",
   "id": "484bb814",
   "metadata": {},
   "source": [
    "## Install\n",
    "`conda install`\n",
    "`pip install`"
   ]
  },
  {
   "cell_type": "markdown",
   "id": "cfd113f3",
   "metadata": {},
   "source": [
    "## Ipython\n",
    "[IPython](https://ipython.readthedocs.io/en/stable/)"
   ]
  },
  {
   "cell_type": "markdown",
   "id": "8b3f3528",
   "metadata": {},
   "source": [
    "## Jupyter"
   ]
  },
  {
   "cell_type": "markdown",
   "id": "3edb96e3",
   "metadata": {},
   "source": [
    "### Converting Notebooks\n",
    "`jupyter nbconvert --to FORMAT mynotebook.ipynb`\n",
    "\n",
    "The currently supported output FORMAT could be either of the following (ignore case):\n",
    "\n",
    "HTML,\n",
    "LaTeX,\n",
    "PDF,\n",
    "WebPDF,\n",
    "Reveal.js HTML slideshow,\n",
    "Markdown,\n",
    "Ascii,\n",
    "reStructuredText,\n",
    "executable script,\n",
    "notebook.\n",
    "\n",
    "Example:\n",
    "```\n",
    "# Install the package below, if not already\n",
    "pip install nbconvert\n",
    "jupyter nbconvert --to html mynotebook.ipynb\n",
    "```\n",
    "\n",
    "Note - If you wish to install any package in conda that is not available in Anaconda distribution, such as the Airbase package, use `pip install airbase`, instead of `conda install airbase`."
   ]
  },
  {
   "cell_type": "markdown",
   "id": "a31e79d2",
   "metadata": {},
   "source": [
    "# Jupyter Notebook\n",
    "[cheatsheet](https://guides.github.com/pdfs/markdown-cheatsheet-online.pdf)\n",
    "[Markdown cheatsheet](https://github.com/adam-p/markdown-here/wiki/Markdown-Cheatsheet)"
   ]
  },
  {
   "cell_type": "markdown",
   "id": "755b3eef",
   "metadata": {},
   "source": [
    "## Working with code cells"
   ]
  },
  {
   "cell_type": "markdown",
   "id": "3849ae12",
   "metadata": {},
   "source": [
    "### Run cells\n",
    "__Shift + Enter__ runs the cell then selects the next cell or creates a new one if necessary. You can run a cell without changing the selected cell by pressing __Control + Enter__."
   ]
  },
  {
   "cell_type": "markdown",
   "id": "44cc86f6",
   "metadata": {},
   "source": [
    "### Code completion\n",
    "When you're writing code, you'll often be using a variable or function often and can save time by using code completion. That is, you only need to type part of the name, then press **tab**."
   ]
  },
  {
   "cell_type": "markdown",
   "id": "b03df822",
   "metadata": {},
   "source": [
    "### Tooltips\n",
    "press **shift + tab** to bring up the tooltip. Show the full help documentation by pressing **shift + tab** twice."
   ]
  },
  {
   "cell_type": "markdown",
   "id": "0a189af5",
   "metadata": {},
   "source": [
    "### Links\n",
    "\"[Name](address)\""
   ]
  },
  {
   "cell_type": "markdown",
   "id": "2f456a33",
   "metadata": {},
   "source": [
    "### Emphasis\n",
    " `_gelato_ `or `*gelato* `renders as _gelato_ \n",
    " \n",
    " `**aardvark**` or `__aardvark__ `looks like __aardvark__"
   ]
  },
  {
   "cell_type": "markdown",
   "id": "a50fbc83",
   "metadata": {},
   "source": [
    "### Code\n",
    "\n",
    "To create a code block, start a new line and wrap the text in three backticks\n",
    "\n",
    "```\n",
    "import requests\n",
    "response = requests.get('https://www.udacity.com')\n",
    "```\n",
    "or indent each line of the code block with four spaces."
   ]
  },
  {
   "cell_type": "markdown",
   "id": "7c7457b8",
   "metadata": {},
   "source": [
    "### Math expressions\n",
    "\n",
    "wrap the LaTeX in dollar signs\n",
    "\n",
    "$y = mx + b$\n",
    "\n",
    "For a math block, use double dollar signs,\n",
    "\n",
    "$$\n",
    "y = \\frac{a}{b+c}\n",
    "$$"
   ]
  },
  {
   "cell_type": "markdown",
   "id": "6dabda41",
   "metadata": {},
   "source": [
    "### Magic Keywords\n",
    "Magic commands are preceded with one or two percent signs (`%` or `%%`) for line magics and cell magics, respectively. "
   ]
  },
  {
   "cell_type": "markdown",
   "id": "c6a0af3c",
   "metadata": {},
   "source": [
    "### Timing code\n",
    "You can use the `%timeit` magic command to time how long it takes for a function to run.\n",
    "\n",
    "If you want to time how long it takes for a whole cell to run, you’d use `%%timeit`."
   ]
  },
  {
   "cell_type": "markdown",
   "id": "02d18fca",
   "metadata": {},
   "source": [
    "### Embedding visualizations in notebooks\n",
    "__Tip__: On higher resolution screens such as Retina displays, the default images in notebooks can look blurry. Use `%config InlineBackend.figure_format = 'retina'` after `%matplotlib inline` to render higher resolution images."
   ]
  },
  {
   "cell_type": "markdown",
   "id": "4e202e56",
   "metadata": {},
   "source": [
    "### Debugging in the Notebook\n",
    "With the Python kernel, you can turn on the interactive debugger using the magic command `%pdb`\n",
    "\n",
    "To quit the debugger, simply enter `q` in the prompt."
   ]
  },
  {
   "cell_type": "markdown",
   "id": "d843fa8d",
   "metadata": {},
   "source": [
    "## Keyboard shortcuts"
   ]
  },
  {
   "cell_type": "markdown",
   "id": "74845604",
   "metadata": {},
   "source": [
    "### Help with commands\n",
    "pressing `H`"
   ]
  },
  {
   "cell_type": "markdown",
   "id": "9c10fccf",
   "metadata": {},
   "source": [
    "### Creating new cells\n",
    "You can create a cell above the current cell by pressing `A`in command mode. Pressing `B` will create a cell below the currently selected cell."
   ]
  },
  {
   "cell_type": "markdown",
   "id": "f7db5e9c",
   "metadata": {},
   "source": [
    "### Switching between Markdown and code\n",
    "To change from Markdown to a code cell, press `Y`. To switch from code to Markdown, press `M`."
   ]
  },
  {
   "cell_type": "markdown",
   "id": "9da4b8fd",
   "metadata": {},
   "source": [
    "### Line numbers\n",
    "You can turn on numbers by pressing `L` (in command mode of course) on a code cell."
   ]
  },
  {
   "cell_type": "markdown",
   "id": "e66c876b",
   "metadata": {},
   "source": [
    "### Deleting cells\n",
    "Deleting cells is done by pressing `D` twice in a row so `D`, `D`. "
   ]
  },
  {
   "cell_type": "markdown",
   "id": "42fddfa0",
   "metadata": {},
   "source": [
    "### Saving the notebook\n",
    "press `S`"
   ]
  },
  {
   "cell_type": "markdown",
   "id": "743de59a",
   "metadata": {},
   "source": [
    "### The Command Palette\n",
    "\n",
    "You can easily access the command palette by pressing Shift + Control/Command + `P`. "
   ]
  },
  {
   "cell_type": "markdown",
   "id": "14af40a9",
   "metadata": {
    "slideshow": {
     "slide_type": "slide"
    }
   },
   "source": [
    "## Creating a Slideshow\n",
    "\n",
    "click View > Cell Toolbar > Slideshow \n",
    "\n",
    "__Slides__ are full slides that you move through left to right. __Sub-slides__ show up in the slideshow by pressing up or down. __Fragments__ are hidden at first, then appear with a button press. You can skip cells in the slideshow with __Skip__ and __Notes__ leaves the cell as speaker notes.\n"
   ]
  },
  {
   "cell_type": "markdown",
   "id": "e7d2fbf3",
   "metadata": {},
   "source": [
    "## Running the slideshow\n",
    "To create the slideshow from the notebook file\n",
    "\n",
    "`jupyter nbconvert notebook.ipynb --to slides`\n",
    "    \n",
    "To convert it and immediately see it\n",
    "\n",
    "`jupyter nbconvert notebook.ipynb --to slides --post serve`"
   ]
  },
  {
   "cell_type": "code",
   "execution_count": null,
   "id": "e833497b",
   "metadata": {},
   "outputs": [],
   "source": []
  }
 ],
 "metadata": {
  "kernelspec": {
   "display_name": "Python 3",
   "language": "python",
   "name": "python3"
  },
  "language_info": {
   "codemirror_mode": {
    "name": "ipython",
    "version": 3
   },
   "file_extension": ".py",
   "mimetype": "text/x-python",
   "name": "python",
   "nbconvert_exporter": "python",
   "pygments_lexer": "ipython3",
   "version": "3.8.10"
  },
  "toc": {
   "base_numbering": 1,
   "nav_menu": {},
   "number_sections": true,
   "sideBar": true,
   "skip_h1_title": false,
   "title_cell": "Table of Contents",
   "title_sidebar": "Contents",
   "toc_cell": false,
   "toc_position": {},
   "toc_section_display": true,
   "toc_window_display": false
  }
 },
 "nbformat": 4,
 "nbformat_minor": 5
}
