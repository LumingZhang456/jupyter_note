{
 "cells": [
  {
   "cell_type": "markdown",
   "id": "e89b2487",
   "metadata": {},
   "source": [
    "# Data Visualization Process"
   ]
  },
  {
   "cell_type": "markdown",
   "id": "ab0b4c52",
   "metadata": {},
   "source": [
    "Step 1: Ask questions\n",
    "\n",
    "Step 2: Wrangle data\n",
    "\n",
    "Step 3: Perform EDA (Exploratory Data Analysis)\n",
    "\n",
    "Step 4: Draw conclusions (or even make predictions)\n",
    "\n",
    "Step 5: Communicate your results"
   ]
  },
  {
   "cell_type": "markdown",
   "id": "0d31f817",
   "metadata": {},
   "source": [
    "## Wrangle Data"
   ]
  },
  {
   "cell_type": "markdown",
   "id": "fd604123",
   "metadata": {},
   "source": [
    "### Read data\n",
    "```\n",
    "import pandas as pd\n",
    "df = pd.read_csv('xxx.csv')\n",
    "df.head()\n",
    "```\n",
    "\n",
    "If your file is separated by a colon, let's say, you can still use `read_csv()` with the `sep` parameter.\n",
    "\n",
    "By default, `read_csv` uses `header=0`, which uses the first line for column labels. If columns labels are not included in your file, you can use `header=None` to prevent your first line of data from being misinterpreted as column labels."
   ]
  },
  {
   "cell_type": "markdown",
   "id": "bcc6d222",
   "metadata": {},
   "source": [
    "You can also specify your own column labels like this.\n",
    "```\n",
    "labels = ['id', 'name', 'attendance', 'hw', 'test1', 'project1', 'test2', 'project2', 'final']\n",
    "df = pd.read_csv('student_scores.csv', names=labels)\n",
    "df.head()\n",
    "```"
   ]
  },
  {
   "cell_type": "markdown",
   "id": "5fb98f63",
   "metadata": {},
   "source": [
    "If you want to tell pandas that there was a header line that you are replacing, you can specify the row of that line like this.\n",
    "```\n",
    "labels = ['id', 'name', 'attendance', 'hw', 'test1', 'project1', 'test2', 'project2', 'final']\n",
    "df = pd.read_csv('student_scores.csv', header=0, names=labels)\n",
    "df.head()\n",
    "```"
   ]
  },
  {
   "cell_type": "markdown",
   "id": "b1e5915f",
   "metadata": {},
   "source": [
    "Instead of using the default index (integers incrementing by 1 from 0), you can specify one or more of your columns to be the index of your dataframe.\n",
    "```\n",
    "df = pd.read_csv('student_scores.csv', index_col='Name')\n",
    "df.head() # by default, it returns the first five\n",
    "```\n",
    "```\n",
    "df = pd.read_csv('student_scores.csv', index_col=['Name', 'ID'])\n",
    "df.head()\n",
    "```"
   ]
  },
  {
   "cell_type": "markdown",
   "id": "6da3b50d",
   "metadata": {},
   "source": [
    "What's this `Unnamed:0`? `to_csv()` will store our index unless we tell it not to. To make it ignore the index, we have to provide the parameter `index=False`"
   ]
  },
  {
   "cell_type": "markdown",
   "id": "bf50a5c9",
   "metadata": {},
   "source": [
    "### Assessing and Building Intuition"
   ]
  },
  {
   "cell_type": "markdown",
   "id": "3b9d805e",
   "metadata": {},
   "source": [
    "this returns a tuple of the dimensions of the dataframe\n",
    "`df.shape`\n",
    "\n",
    "this returns the datatypes of the columns\n",
    "`df.dtypes`\n",
    "\n",
    "`type(df['diagnosis'][0])`\n",
    "\n",
    "this displays a concise summary of the dataframe, including the number of non-null values in each column\n",
    "`df.info()`\n",
    "\n",
    "this returns the number of unique values in each column\n",
    "`df.nunique()`\n",
    "\n",
    "this returns useful descriptive statistics for each column of data\n",
    "`df.describe()`\n",
    "\n",
    "same thing applies to `.tail()` which returns the last few rows\n",
    "`df.tail(2)`"
   ]
  },
  {
   "cell_type": "markdown",
   "id": "024705e4",
   "metadata": {},
   "source": [
    "### Indexing and Selecting Data in Pandas"
   ]
  },
  {
   "cell_type": "markdown",
   "id": "48260afc",
   "metadata": {},
   "source": [
    "View the index number and label for each column\n",
    "```\n",
    "for i, v in enumerate(df.columns):\n",
    "    print(i, v)\n",
    "```\n",
    "\n",
    "`loc` uses labels of rows or columns to select data, while `iloc` uses the index numbers. We'll use these to index the dataframe below.\n",
    "```\n",
    "# select all the columns from 'id' to the last mean column\n",
    "df_means = df.loc[:,'id':'fractal_dimension_mean']\n",
    "df_means.head()\n",
    "```\n",
    "\n",
    "```\n",
    "# repeat the step above using index numbers\n",
    "df_means = df.iloc[:,:12]\n",
    "df_means.head()\n",
    "```\n",
    "\n",
    "save the dataframe\n",
    "```\n",
    "df_means.to_csv('cancer_data_means.csv', index=False)\n",
    "```"
   ]
  },
  {
   "cell_type": "markdown",
   "id": "78323651",
   "metadata": {},
   "source": [
    "### Selecting Multiple Ranges in Pandas"
   ]
  },
  {
   "cell_type": "markdown",
   "id": "7bc33ccb",
   "metadata": {},
   "source": [
    "Using `numpy.r_`\n",
    "```\n",
    "import numpy as np\n",
    "\n",
    "df_SE = df.iloc[:, np.r_[:2, 12:22]]\n",
    "```"
   ]
  },
  {
   "cell_type": "markdown",
   "id": "a50e9a57",
   "metadata": {},
   "source": [
    "### Deal with missing data\n",
    "Replace it with `mean`\n",
    "```\n",
    "mean = df['view_duration'].mean()\n",
    "df['view_duration'].fillna(mean, inplace=True)\n",
    "```\n",
    "\n",
    "`inplace = True` means replace the value in the original place, not to add a new column.\n",
    "\n",
    "Checks if any of columns in 2008 have null values - should print False\n",
    "```\n",
    "df.isnull().sum().any()\n",
    "```"
   ]
  },
  {
   "cell_type": "markdown",
   "id": "2e314fc6",
   "metadata": {},
   "source": [
    "### Duplicate value\n",
    "`df.duplicated()` `sum(df.duplicated())` `df.drop_duplicates(inplace=True)`\n",
    "\n",
    "If you want to drop the duplicates only based on the specific column, you can use the subset parameter in the duplicated and drop_duplicates function to do this."
   ]
  },
  {
   "cell_type": "markdown",
   "id": "4164eab3",
   "metadata": {},
   "source": [
    "### Convert to datetime\n",
    "```\n",
    "df['timestemp'] = pd.to_datetime(df['timestemp'])\n",
    "```\n",
    "Even if you save this to a CSV file after making this change, it will still be read as a string by default the next time you open it. You have to convert it again after opening the CSV file or use the parameter like `parse_dates=[]` in the `read_csv()` function."
   ]
  },
  {
   "cell_type": "markdown",
   "id": "8a7b3d0b",
   "metadata": {},
   "source": [
    "### Unique value\n",
    "Aggregate counts for each unique value in column\n",
    "```\n",
    "df.value_counts()\n",
    "```"
   ]
  },
  {
   "cell_type": "markdown",
   "id": "95b62e19",
   "metadata": {},
   "source": [
    "## Visualization\n",
    "\n",
    "Refer to the Pandas Visualization documentation\"[Visualization](https://pandas.pydata.org/pandas-docs/stable/user_guide/visualization.html)\""
   ]
  },
  {
   "cell_type": "markdown",
   "id": "0240af4a",
   "metadata": {},
   "source": [
    "```\n",
    "%matplotlib inline\n",
    "\n",
    "df.hist(figsize=[8,8])\n",
    "```\n",
    "we can use `;` to suppress unwanted output `df.hist(figsize[8,8]);`\n",
    "\n",
    "Plot specific column\n",
    "```\n",
    "df[].hist();\n",
    "#or\n",
    "df[].plot(kind='hist');\n",
    "```"
   ]
  },
  {
   "cell_type": "markdown",
   "id": "4f21d8ad",
   "metadata": {},
   "source": [
    "### Plot unique value in each column\n",
    "```\n",
    "df.value_counts().plot(kind='bar')\n",
    "```"
   ]
  },
  {
   "cell_type": "markdown",
   "id": "40057a67",
   "metadata": {},
   "source": [
    "### Scatter plot\n",
    "Matrix plot\n",
    "```\n",
    "pd.plotting.scatter_matrix(df,figsize=(15,15));\n",
    "```\n",
    "\n",
    "Singer plot\n",
    "```\n",
    "df.plot(x='',y='',kind='scatter');\n",
    "```"
   ]
  },
  {
   "cell_type": "markdown",
   "id": "380bd8fe",
   "metadata": {},
   "source": [
    "### Combine DataFrames with Append\n",
    "```\n",
    "# combine red_df and white_df\n",
    "wine_df = red_df.append(white_df)\n",
    "```"
   ]
  },
  {
   "cell_type": "markdown",
   "id": "54efa913",
   "metadata": {},
   "source": [
    "### Rename the column\n",
    "[pandas rename function](https://pandas.pydata.org/pandas-docs/stable/reference/api/pandas.DataFrame.rename.html)\n",
    "```\n",
    "red_df.rename(columns={'total_sulfur-dioxide':'total_sulfur_dioxide'}, inplace=True)\n",
    "```\n",
    "\n",
    "Replace spaces with underscores and lowercase labels for 2008 dataset\n",
    "```\n",
    "df_08.rename(columns=lambda x: x.strip().lower().replace(\" \", \"_\"), inplace=True)\n",
    "```"
   ]
  },
  {
   "cell_type": "markdown",
   "id": "d157fc34",
   "metadata": {},
   "source": [
    "### Numpy repeat function\n",
    "[Numpy repeat](https://numpy.org/doc/stable/reference/generated/numpy.repeat.html)"
   ]
  },
  {
   "cell_type": "markdown",
   "id": "1e6ce15d",
   "metadata": {},
   "source": [
    "### Drop extraneous columns\n",
    "[pandas.DataFrame.drop](https://pandas.pydata.org/pandas-docs/stable/reference/api/pandas.DataFrame.drop.html)\n",
    "```\n",
    "# drop columns from 2008 dataset\n",
    "df_08.drop(['Stnd', 'Underhood ID', 'FE Calc Appr', 'Unadj Cmb MPG'], axis=1, inplace=True)\n",
    "```"
   ]
  },
  {
   "cell_type": "markdown",
   "id": "d692d688",
   "metadata": {},
   "source": [
    "### Fixing Data Types\n",
    "[Extract int from string in Pandas](https://stackoverflow.com/questions/35376387/extract-int-from-string-in-pandas)\n",
    "\n",
    "Extract int from strings in the 2008 cyl column\n",
    "```\n",
    "df_08['cyl'] = df_08['cyl'].str.extract('(\\d+)').astype(int)\n",
    "\n",
    "# Check value counts for 2008 cyl column again to confirm the change\n",
    "df_08['cyl'].value_counts()\n",
    "```\n",
    "```\n",
    "# convert 2018 cyl column to int\n",
    "df_18['cyl'] = df_18['cyl'].astype(int)\n",
    "```"
   ]
  },
  {
   "cell_type": "markdown",
   "id": "2de485cd",
   "metadata": {},
   "source": [
    "### String contain\n",
    "```\n",
    "# Find all rows in specific column which contains '/'\n",
    "df_new = df[df['something'].str.contains('/')]\n",
    "```"
   ]
  },
  {
   "cell_type": "markdown",
   "id": "7d7be7bc",
   "metadata": {},
   "source": [
    "### Apply\n",
    "[pandas.DataFrame.apply](https://pandas.pydata.org/pandas-docs/stable/reference/api/pandas.DataFrame.apply.html)\n",
    "\n",
    "Example:\n",
    "```\n",
    "# columns to split by \"/\"\n",
    "split_columns = ['fuel', 'air_pollution_score', 'city_mpg', 'hwy_mpg', 'cmb_mpg', 'greenhouse_gas_score']\n",
    "\n",
    "# apply split function to each column of each dataframe copy\n",
    "for c in split_columns:\n",
    "    df1[c] = df1[c].apply(lambda x: x.split(\"/\")[0])\n",
    "    df2[c] = df2[c].apply(lambda x: x.split(\"/\")[1])\n",
    "```"
   ]
  },
  {
   "cell_type": "markdown",
   "id": "504474e1",
   "metadata": {},
   "source": [
    "### Merge\n",
    "[Merge](https://pandas.pydata.org/pandas-docs/stable/user_guide/merging.html)"
   ]
  },
  {
   "cell_type": "markdown",
   "id": "538fcf28",
   "metadata": {},
   "source": [
    "### Save data to csv file\n",
    "```\n",
    "wine_df.to_csv('winequality_edited.csv',index=False)\n",
    "```"
   ]
  },
  {
   "cell_type": "markdown",
   "id": "e533ad6f",
   "metadata": {},
   "source": [
    "## Conclusion"
   ]
  },
  {
   "cell_type": "markdown",
   "id": "d0f4e93e",
   "metadata": {},
   "source": [
    "### Drawing conclusion using Groupby\n",
    "[Pandas Groupby](https://pandas.pydata.org/pandas-docs/stable/user_guide/groupby.html) and its documentation [here](https://pandas.pydata.org/pandas-docs/stable/reference/api/pandas.DataFrame.groupby.html)"
   ]
  },
  {
   "cell_type": "markdown",
   "id": "64920f6a",
   "metadata": {},
   "source": [
    "```\n",
    "# Find the mean quality of each wine type (red and white) with groupby\n",
    "df.groupby('color').mean().quality\n",
    "```"
   ]
  },
  {
   "cell_type": "markdown",
   "id": "c740437d",
   "metadata": {},
   "source": [
    "### Pandas query\n",
    "[pandas.DataFrame.query](https://pandas.pydata.org/pandas-docs/stable/reference/api/pandas.DataFrame.query.html)\n",
    "\n",
    "In the previous lesson, we selected rows in a dataframe by indexing with a mask. Here are those same examples, along with equivalent statements that use `query()`.\n",
    "\n",
    "```\n",
    "# selecting malignant records in cancer data\n",
    "df_m = df[df['diagnosis'] == 'M']\n",
    "df_m = df.query('diagnosis == \"M\"')\n",
    "\n",
    "# selecting records of people making over $50K\n",
    "df_a = df[df['income'] == ' >50K']\n",
    "df_a = df.query('income == \" >50K\"')\n",
    "\n",
    "# selecting records in cancer data with radius greater than the median\n",
    "df_h = df[df['radius'] > 13.375]\n",
    "df_h = df.query('radius > 13.375')\n",
    "```"
   ]
  },
  {
   "cell_type": "markdown",
   "id": "ca7b54e1",
   "metadata": {},
   "source": [
    "### Seaborn\n",
    "[seaborn: statistical data visualization](https://seaborn.pydata.org/)\n",
    "\n",
    "[Examples](https://seaborn.pydata.org/examples/index.html)"
   ]
  },
  {
   "cell_type": "markdown",
   "id": "d8b4026d",
   "metadata": {},
   "source": [
    "### pyplot\n",
    "[matplotlib.pyplot](https://matplotlib.org/2.0.2/api/pyplot_api.html)\n",
    "\n",
    "```\n",
    "import matplotlib.pyplot as plt\n",
    "% matplotlib inline\n",
    "```\n",
    "\n",
    "There are two required arguments in pyplot's `bar` function: the x-coordinates of the bars, and the heights of the bars.\n",
    "```\n",
    "plt.bar([1, 2, 3], [224, 620, 425]);\n",
    "```\n",
    "\n",
    "You can specify the x tick labels using pyplot's `xticks` function, or by specifying another parameter in the `bar` function. The two cells below accomplish the same thing.\n",
    "```\n",
    "# plot bars\n",
    "plt.bar([1, 2, 3], [224, 620, 425])\n",
    "\n",
    "# specify x coordinates of tick labels and their labels\n",
    "plt.xticks([1, 2, 3], ['a', 'b', 'c']);\n",
    "\n",
    "# plot bars with x tick labels\n",
    "plt.bar([1, 2, 3], [224, 620, 425], tick_label=['a', 'b', 'c']);\n",
    "```\n",
    "\n",
    "Set the title and label axes like this.\n",
    "```\n",
    "plt.bar([1, 2, 3], [224, 620, 425], tick_label=['a', 'b', 'c'])\n",
    "plt.title('Some Title')\n",
    "plt.xlabel('Some X Label')\n",
    "plt.ylabel('Some Y Label');\n",
    "```\n",
    "\n",
    "[matplotlib.pyplot.plot](https://matplotlib.org/stable/api/_as_gen/matplotlib.pyplot.plot.html)"
   ]
  }
 ],
 "metadata": {
  "kernelspec": {
   "display_name": "Python 3",
   "language": "python",
   "name": "python3"
  },
  "language_info": {
   "codemirror_mode": {
    "name": "ipython",
    "version": 3
   },
   "file_extension": ".py",
   "mimetype": "text/x-python",
   "name": "python",
   "nbconvert_exporter": "python",
   "pygments_lexer": "ipython3",
   "version": "3.8.10"
  },
  "toc": {
   "base_numbering": 1,
   "nav_menu": {},
   "number_sections": true,
   "sideBar": true,
   "skip_h1_title": false,
   "title_cell": "Table of Contents",
   "title_sidebar": "Contents",
   "toc_cell": false,
   "toc_position": {},
   "toc_section_display": true,
   "toc_window_display": false
  }
 },
 "nbformat": 4,
 "nbformat_minor": 5
}
